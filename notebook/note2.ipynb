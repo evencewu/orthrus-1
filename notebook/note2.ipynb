{
 "cells": [
  {
   "cell_type": "code",
   "execution_count": 4,
   "metadata": {},
   "outputs": [],
   "source": [
    "import numpy as np\n",
    "import math"
   ]
  },
  {
   "cell_type": "markdown",
   "metadata": {},
   "source": [
    "# 位置正解"
   ]
  },
  {
   "cell_type": "code",
   "execution_count": 5,
   "metadata": {},
   "outputs": [],
   "source": [
    "LONG=40\n",
    "WIDE=10"
   ]
  },
  {
   "cell_type": "code",
   "execution_count": 43,
   "metadata": {},
   "outputs": [],
   "source": [
    "pi = 3.1415926\n",
    "\n",
    "o1 = 0\n",
    "o2 = -pi/2\n",
    "o3 = -pi/2\n",
    "\n",
    "l1 = 5\n",
    "l2 = 20\n",
    "l3 = 20\n",
    "\n",
    "c1 = math.cos(o1)\n",
    "s1 = math.sin(o1)\n",
    "c2 = math.cos(o2)\n",
    "s2 = math.sin(o2)\n",
    "c3 = math.cos(o3)\n",
    "s3 = math.sin(o3)\n",
    "\n",
    "R_OA = np.array([[ 1 , 0 , 0 ,WIDE/2],\n",
    "                 [ 0 , 1 , 0 ,LONG/2],\n",
    "                 [ 0 , 0 , 1 ,0     ],\n",
    "                 [ 0 , 0 , 0 ,1     ]])\n",
    "\n",
    "R_AB = np.array([[ c1 , 0 , -s1 ,l1 ],\n",
    "                 [ 0  , 1 , 0   ,0  ],\n",
    "                 [ s1 , 0 , c1  ,0  ],\n",
    "                 [ 0  , 0 , 0   ,1  ]])\n",
    "\n",
    "R_BC = np.array([[ 1 , 0 , 0 ,0    ],\n",
    "                 [ 0 , 1 , 0 ,c2*l2],\n",
    "                 [ 0 , 0 , 1 ,s2*l2],\n",
    "                 [ 0 , 0 , 0 ,1    ]])\n",
    "\n",
    "R_CD = np.array([[ 1 , 0 , 0 ,0    ],\n",
    "                 [ 0 , 1 , 0 ,c3*l3],\n",
    "                 [ 0 , 0 , 1 ,s3*l3],\n",
    "                 [ 0 , 0 , 0 ,1    ]])\n",
    "\n",
    "R_AO = R_OA.T\n",
    "R_BA = R_AB.T\n",
    "R_CB = R_BC.T\n",
    "R_DC = R_CD.T\n",
    "\n"
   ]
  },
  {
   "cell_type": "code",
   "execution_count": 54,
   "metadata": {},
   "outputs": [
    {
     "data": {
      "text/plain": [
       "-19.999999999999993"
      ]
     },
     "execution_count": 54,
     "metadata": {},
     "output_type": "execute_result"
    }
   ],
   "source": [
    "s3*l3"
   ]
  },
  {
   "cell_type": "code",
   "execution_count": 7,
   "metadata": {
    "tags": []
   },
   "outputs": [
    {
     "name": "stdout",
     "output_type": "stream",
     "text": [
      "[ 10.          20.00000107 -40.           1.        ]\n"
     ]
    }
   ],
   "source": [
    "mind = [0,0,0,1]\n",
    "R_OB = np.dot(R_OA,R_AB)\n",
    "R_BD = np.dot(R_BC,R_CD)\n",
    "R = np.dot(R_OB,R_BD)\n",
    "print(np.dot(R,mind))\n"
   ]
  },
  {
   "cell_type": "markdown",
   "metadata": {},
   "source": [
    "# 速度传递求解"
   ]
  },
  {
   "cell_type": "code",
   "execution_count": 12,
   "metadata": {
    "tags": []
   },
   "outputs": [
    {
     "name": "stdout",
     "output_type": "stream",
     "text": [
      "[[  0   0  10   0]\n",
      " [  0   0   0   0]\n",
      " [-10   0   0   0]\n",
      " [  0   0   0   1]]\n",
      "[[  0   0   0   0]\n",
      " [  0   0 -10   0]\n",
      " [  0  10   0   0]\n",
      " [  0   0   0   1]]\n",
      "[[  0   0   0   0]\n",
      " [  0   0 -10   0]\n",
      " [  0  10   0   0]\n",
      " [  0   0   0   1]]\n"
     ]
    }
   ],
   "source": [
    "w_Motor_A = [0,10,0,1]\n",
    "w_Motor_B = [10,0,0,1]\n",
    "w_Motor_C = [10,0,0,1]\n",
    "\n",
    "sqare = np.array([[[0 ,0 ,0 ,0],\n",
    "                   [0 ,0 ,-1,0],\n",
    "                   [0 ,1 ,0 ,0],\n",
    "                   [0 ,0 ,0 ,0]],\n",
    "                  [[0 ,0 ,1 ,0],\n",
    "                   [0 ,0 ,0 ,0],\n",
    "                   [-1,0 ,0 ,0],\n",
    "                   [0 ,0 ,0 ,0]],\n",
    "                  [[0 ,-1,0 ,0],\n",
    "                   [1 ,0 ,0 ,0],\n",
    "                   [0 ,0 ,0 ,0],\n",
    "                   [0 ,0 ,0 ,0]],\n",
    "                  [[0 ,0 ,0 ,0],\n",
    "                   [0 ,0 ,0 ,0],\n",
    "                   [0 ,0 ,0 ,0],\n",
    "                   [0 ,0 ,0 ,1]]])\n",
    "sqare_T = sqare.T\n",
    "w_sq_Motor_A = np.dot(sqare,w_Motor_A)\n",
    "w_sq_Motor_B = np.dot(sqare,w_Motor_B)\n",
    "w_sq_Motor_C = np.dot(sqare,w_Motor_C)\n",
    "print(w_sq_Motor_A)\n",
    "print(w_sq_Motor_B)\n",
    "print(w_sq_Motor_C)"
   ]
  },
  {
   "cell_type": "code",
   "execution_count": 9,
   "metadata": {
    "tags": []
   },
   "outputs": [
    {
     "name": "stdout",
     "output_type": "stream",
     "text": [
      "[ 0. 10.  0.  1.] [  0.   0. -50.   1.] [  0.   0. -50.   1.]\n",
      "[10.         10.          0.          1.00000536] [   0.          200.          -49.99999464 1002.        ] [0.00000000e+00 2.00000000e+02 5.35897932e-06 1.00000000e+00]\n",
      "[20.         10.          0.          1.00000536] [   0.          400.          -49.99998928 2003.        ] [0.00000000e+00 2.00000000e+02 5.35897932e-06 1.00000000e+00]\n"
     ]
    }
   ],
   "source": [
    "w_B  = np.dot(R_BA,w_Motor_A)\n",
    "#中间计算---------------------------\n",
    "P_AB = np.dot(R_AB,[0,0,0,1])    #--\n",
    "v_B_  = np.dot(w_sq_Motor_A,P_AB)#--\n",
    "#-----------------------------------\n",
    "v_B = np.dot(R_BA,v_B_)\n",
    "\n",
    "print(w_B,v_B,v_B_)\n",
    "\n",
    "w_C_ = np.dot([[1,0,0,0],[0,1,0,0],[0,0,1,0],[0,0,0,0]],w_B+w_Motor_B)+[0,0,0,1]\n",
    "w_C  = np.dot(R_CB,w_C_)\n",
    "#中间计算---------------------------\n",
    "P_BC = np.dot(R_BC,[0,0,0,1])    #--\n",
    "v_C_  = np.dot(w_sq_Motor_B,P_BC)#--\n",
    "#-----------------------------------\n",
    "v_C = np.dot(R_CB,v_C_+v_B)\n",
    "\n",
    "print(w_C,v_C,v_C_)\n",
    "\n",
    "w_D_ = np.dot([[1,0,0,0],[0,1,0,0],[0,0,1,0],[0,0,0,0]],w_C+w_Motor_C)+[0,0,0,1]\n",
    "w_D  = np.dot(R_DC,w_D_)\n",
    "#中间计算---------------------------\n",
    "P_CD = np.dot(R_CD,[0,0,0,1])    #--\n",
    "v_D_  = np.dot(w_sq_Motor_C,P_CD)#--\n",
    "#-----------------------------------\n",
    "v_D = np.dot(R_DC,v_D_+v_C)\n",
    "\n",
    "print(w_D,v_D,v_D_)\n",
    "\n",
    "\n"
   ]
  },
  {
   "cell_type": "markdown",
   "metadata": {},
   "source": [
    "# 静力传递求解"
   ]
  },
  {
   "cell_type": "code",
   "execution_count": 95,
   "metadata": {},
   "outputs": [],
   "source": [
    "F_D = [3,1,2,1]\n",
    "N_D = [0,0,0,1]"
   ]
  },
  {
   "cell_type": "code",
   "execution_count": 96,
   "metadata": {},
   "outputs": [
    {
     "name": "stdout",
     "output_type": "stream",
     "text": [
      "[  40.00000214 -130.            4.99999678    1.        ] [3, 1, 2, 1]\n"
     ]
    }
   ],
   "source": [
    "F_C = F_D\n",
    "#中间计算-----------------------------\n",
    "N_C_sqare = np.dot(sqare_T,F_D)    #--\n",
    "N_C_ = N_D + np.dot(N_C_sqare,P_CD)#--\n",
    "#-------------------------------------\n",
    "N_C = np.dot([[1,0,0,0],[0,1,0,0],[0,0,1,0],[0,0,0,0]],N_C_)+[0,0,0,1]\n",
    "\n",
    "F_B = F_C\n",
    "#中间计算-----------------------------\n",
    "N_B_sqare = np.dot(sqare_T,F_C)    #--\n",
    "N_B_ = N_C + np.dot(N_B_sqare,P_BC)#--\n",
    "#-------------------------------------\n",
    "N_B = np.dot([[1,0,0,0],[0,1,0,0],[0,0,1,0],[0,0,0,0]],N_B_)+[0,0,0,1]\n",
    "\n",
    "F_A = F_B\n",
    "#中间计算-----------------------------\n",
    "N_A_sqare = np.dot(sqare_T,F_B)    #--\n",
    "N_A_ = N_B + np.dot(N_A_sqare,P_AB)#--\n",
    "#-------------------------------------\n",
    "N_A = np.dot([[1,0,0,0],[0,1,0,0],[0,0,1,0],[0,0,0,0]],N_A_)+[0,0,0,1]\n",
    "\n",
    "print(N_A,F_A)"
   ]
  },
  {
   "cell_type": "markdown",
   "metadata": {},
   "source": [
    "# 加速度传递求解"
   ]
  },
  {
   "cell_type": "code",
   "execution_count": null,
   "metadata": {},
   "outputs": [],
   "source": []
  },
  {
   "cell_type": "code",
   "execution_count": null,
   "metadata": {},
   "outputs": [],
   "source": []
  }
 ],
 "metadata": {
  "kernelspec": {
   "display_name": "Python 3",
   "language": "python",
   "name": "python3"
  },
  "language_info": {
   "codemirror_mode": {
    "name": "ipython",
    "version": 3
   },
   "file_extension": ".py",
   "mimetype": "text/x-python",
   "name": "python",
   "nbconvert_exporter": "python",
   "pygments_lexer": "ipython3",
   "version": "3.6.5"
  }
 },
 "nbformat": 4,
 "nbformat_minor": 2
}

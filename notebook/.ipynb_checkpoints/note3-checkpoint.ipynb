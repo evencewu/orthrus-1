{
 "cells": [
  {
   "cell_type": "code",
   "execution_count": 15,
   "metadata": {},
   "outputs": [],
   "source": [
    "import numpy as np\n",
    "from sympy import * \n",
    "from sympy.abc import *\n",
    "import numpy as np\n",
    "import math"
   ]
  },
  {
   "cell_type": "code",
   "execution_count": 21,
   "metadata": {},
   "outputs": [
    {
     "ename": "TypeError",
     "evalue": "'builtin_function_or_method' object is not subscriptable",
     "output_type": "error",
     "traceback": [
      "\u001b[1;31m---------------------------------------------------------------------------\u001b[0m",
      "\u001b[1;31mTypeError\u001b[0m                                 Traceback (most recent call last)",
      "\u001b[1;32m<ipython-input-21-51814b875327>\u001b[0m in \u001b[0;36m<module>\u001b[1;34m()\u001b[0m\n\u001b[1;32m----> 1\u001b[1;33m \u001b[0ma\u001b[0m \u001b[1;33m=\u001b[0m \u001b[0mnp\u001b[0m\u001b[1;33m.\u001b[0m\u001b[0marray\u001b[0m\u001b[1;33m[\u001b[0m\u001b[1;36m1\u001b[0m\u001b[1;33m,\u001b[0m\u001b[1;36m2\u001b[0m\u001b[1;33m,\u001b[0m\u001b[1;36m3\u001b[0m\u001b[1;33m]\u001b[0m\u001b[1;33m\u001b[0m\u001b[0m\n\u001b[0m\u001b[0;32m      2\u001b[0m \u001b[0maa\u001b[0m \u001b[1;33m=\u001b[0m \u001b[0msolve\u001b[0m\u001b[1;33m(\u001b[0m\u001b[1;33m[\u001b[0m\u001b[0mx\u001b[0m\u001b[1;33m**\u001b[0m\u001b[1;36m2\u001b[0m\u001b[1;33m+\u001b[0m\u001b[0ma\u001b[0m\u001b[1;33m**\u001b[0m\u001b[1;36m2\u001b[0m\u001b[1;33m]\u001b[0m\u001b[1;33m,\u001b[0m\u001b[1;33m[\u001b[0m\u001b[0mx\u001b[0m\u001b[1;33m]\u001b[0m\u001b[1;33m)\u001b[0m\u001b[1;33m\u001b[0m\u001b[0m\n\u001b[0;32m      3\u001b[0m \u001b[0maa\u001b[0m\u001b[1;33m\u001b[0m\u001b[0m\n",
      "\u001b[1;31mTypeError\u001b[0m: 'builtin_function_or_method' object is not subscriptable"
     ]
    }
   ],
   "source": [
    "a = np.array[1,2,3]\n",
    "aa = solve([x**2+a**2],[x])\n",
    "aa\n"
   ]
  },
  {
   "cell_type": "code",
   "execution_count": 25,
   "metadata": {},
   "outputs": [],
   "source": [
    "P1x,P1y,P1z = symbols('P1x,P1y,P1z')\n",
    "P2x,P2y,P2z = symbols('P2x,P2y,P2z')\n",
    "P3x,P3y,P3z = symbols('P3x,P3y,P3z')\n",
    "P4x,P4y,P4z = symbols('P4x,P4y,P4z')"
   ]
  },
  {
   "cell_type": "code",
   "execution_count": 31,
   "metadata": {
    "scrolled": true
   },
   "outputs": [
    {
     "ename": "TypeError",
     "evalue": "No loop matching the specified signature and casting was found for ufunc svd_m_s",
     "output_type": "error",
     "traceback": [
      "\u001b[1;31m---------------------------------------------------------------------------\u001b[0m",
      "\u001b[1;31mTypeError\u001b[0m                                 Traceback (most recent call last)",
      "\u001b[1;32m<ipython-input-31-a9134bcf1185>\u001b[0m in \u001b[0;36m<module>\u001b[1;34m()\u001b[0m\n\u001b[0;32m     26\u001b[0m \u001b[1;31m##\u001b[0m\u001b[1;33m\u001b[0m\u001b[1;33m\u001b[0m\u001b[0m\n\u001b[0;32m     27\u001b[0m \u001b[0mK\u001b[0m\u001b[1;33m=\u001b[0m \u001b[0mnp\u001b[0m\u001b[1;33m.\u001b[0m\u001b[0mmatrix\u001b[0m\u001b[1;33m(\u001b[0m\u001b[0mk\u001b[0m\u001b[1;33m)\u001b[0m\u001b[1;33m\u001b[0m\u001b[0m\n\u001b[1;32m---> 28\u001b[1;33m \u001b[0mK\u001b[0m\u001b[1;33m.\u001b[0m\u001b[0mI\u001b[0m\u001b[1;33m\u001b[0m\u001b[0m\n\u001b[0m",
      "\u001b[1;32mD:\\anaconda\\lib\\site-packages\\numpy\\matrixlib\\defmatrix.py\u001b[0m in \u001b[0;36mI\u001b[1;34m(self)\u001b[0m\n\u001b[0;32m    833\u001b[0m         \u001b[1;32melse\u001b[0m\u001b[1;33m:\u001b[0m\u001b[1;33m\u001b[0m\u001b[0m\n\u001b[0;32m    834\u001b[0m             \u001b[1;32mfrom\u001b[0m \u001b[0mnumpy\u001b[0m\u001b[1;33m.\u001b[0m\u001b[0mdual\u001b[0m \u001b[1;32mimport\u001b[0m \u001b[0mpinv\u001b[0m \u001b[1;32mas\u001b[0m \u001b[0mfunc\u001b[0m\u001b[1;33m\u001b[0m\u001b[0m\n\u001b[1;32m--> 835\u001b[1;33m         \u001b[1;32mreturn\u001b[0m \u001b[0masmatrix\u001b[0m\u001b[1;33m(\u001b[0m\u001b[0mfunc\u001b[0m\u001b[1;33m(\u001b[0m\u001b[0mself\u001b[0m\u001b[1;33m)\u001b[0m\u001b[1;33m)\u001b[0m\u001b[1;33m\u001b[0m\u001b[0m\n\u001b[0m\u001b[0;32m    836\u001b[0m \u001b[1;33m\u001b[0m\u001b[0m\n\u001b[0;32m    837\u001b[0m     \u001b[1;33m@\u001b[0m\u001b[0mproperty\u001b[0m\u001b[1;33m\u001b[0m\u001b[0m\n",
      "\u001b[1;32m<__array_function__ internals>\u001b[0m in \u001b[0;36mpinv\u001b[1;34m(*args, **kwargs)\u001b[0m\n",
      "\u001b[1;32mD:\\anaconda\\lib\\site-packages\\numpy\\linalg\\linalg.py\u001b[0m in \u001b[0;36mpinv\u001b[1;34m(a, rcond, hermitian)\u001b[0m\n\u001b[0;32m   2001\u001b[0m         \u001b[1;32mreturn\u001b[0m \u001b[0mwrap\u001b[0m\u001b[1;33m(\u001b[0m\u001b[0mres\u001b[0m\u001b[1;33m)\u001b[0m\u001b[1;33m\u001b[0m\u001b[0m\n\u001b[0;32m   2002\u001b[0m     \u001b[0ma\u001b[0m \u001b[1;33m=\u001b[0m \u001b[0ma\u001b[0m\u001b[1;33m.\u001b[0m\u001b[0mconjugate\u001b[0m\u001b[1;33m(\u001b[0m\u001b[1;33m)\u001b[0m\u001b[1;33m\u001b[0m\u001b[0m\n\u001b[1;32m-> 2003\u001b[1;33m     \u001b[0mu\u001b[0m\u001b[1;33m,\u001b[0m \u001b[0ms\u001b[0m\u001b[1;33m,\u001b[0m \u001b[0mvt\u001b[0m \u001b[1;33m=\u001b[0m \u001b[0msvd\u001b[0m\u001b[1;33m(\u001b[0m\u001b[0ma\u001b[0m\u001b[1;33m,\u001b[0m \u001b[0mfull_matrices\u001b[0m\u001b[1;33m=\u001b[0m\u001b[1;32mFalse\u001b[0m\u001b[1;33m,\u001b[0m \u001b[0mhermitian\u001b[0m\u001b[1;33m=\u001b[0m\u001b[0mhermitian\u001b[0m\u001b[1;33m)\u001b[0m\u001b[1;33m\u001b[0m\u001b[0m\n\u001b[0m\u001b[0;32m   2004\u001b[0m \u001b[1;33m\u001b[0m\u001b[0m\n\u001b[0;32m   2005\u001b[0m     \u001b[1;31m# discard small singular values\u001b[0m\u001b[1;33m\u001b[0m\u001b[1;33m\u001b[0m\u001b[0m\n",
      "\u001b[1;32m<__array_function__ internals>\u001b[0m in \u001b[0;36msvd\u001b[1;34m(*args, **kwargs)\u001b[0m\n",
      "\u001b[1;32mD:\\anaconda\\lib\\site-packages\\numpy\\linalg\\linalg.py\u001b[0m in \u001b[0;36msvd\u001b[1;34m(a, full_matrices, compute_uv, hermitian)\u001b[0m\n\u001b[0;32m   1659\u001b[0m \u001b[1;33m\u001b[0m\u001b[0m\n\u001b[0;32m   1660\u001b[0m         \u001b[0msignature\u001b[0m \u001b[1;33m=\u001b[0m \u001b[1;34m'D->DdD'\u001b[0m \u001b[1;32mif\u001b[0m \u001b[0misComplexType\u001b[0m\u001b[1;33m(\u001b[0m\u001b[0mt\u001b[0m\u001b[1;33m)\u001b[0m \u001b[1;32melse\u001b[0m \u001b[1;34m'd->ddd'\u001b[0m\u001b[1;33m\u001b[0m\u001b[0m\n\u001b[1;32m-> 1661\u001b[1;33m         \u001b[0mu\u001b[0m\u001b[1;33m,\u001b[0m \u001b[0ms\u001b[0m\u001b[1;33m,\u001b[0m \u001b[0mvh\u001b[0m \u001b[1;33m=\u001b[0m \u001b[0mgufunc\u001b[0m\u001b[1;33m(\u001b[0m\u001b[0ma\u001b[0m\u001b[1;33m,\u001b[0m \u001b[0msignature\u001b[0m\u001b[1;33m=\u001b[0m\u001b[0msignature\u001b[0m\u001b[1;33m,\u001b[0m \u001b[0mextobj\u001b[0m\u001b[1;33m=\u001b[0m\u001b[0mextobj\u001b[0m\u001b[1;33m)\u001b[0m\u001b[1;33m\u001b[0m\u001b[0m\n\u001b[0m\u001b[0;32m   1662\u001b[0m         \u001b[0mu\u001b[0m \u001b[1;33m=\u001b[0m \u001b[0mu\u001b[0m\u001b[1;33m.\u001b[0m\u001b[0mastype\u001b[0m\u001b[1;33m(\u001b[0m\u001b[0mresult_t\u001b[0m\u001b[1;33m,\u001b[0m \u001b[0mcopy\u001b[0m\u001b[1;33m=\u001b[0m\u001b[1;32mFalse\u001b[0m\u001b[1;33m)\u001b[0m\u001b[1;33m\u001b[0m\u001b[0m\n\u001b[0;32m   1663\u001b[0m         \u001b[0ms\u001b[0m \u001b[1;33m=\u001b[0m \u001b[0ms\u001b[0m\u001b[1;33m.\u001b[0m\u001b[0mastype\u001b[0m\u001b[1;33m(\u001b[0m\u001b[0m_realType\u001b[0m\u001b[1;33m(\u001b[0m\u001b[0mresult_t\u001b[0m\u001b[1;33m)\u001b[0m\u001b[1;33m,\u001b[0m \u001b[0mcopy\u001b[0m\u001b[1;33m=\u001b[0m\u001b[1;32mFalse\u001b[0m\u001b[1;33m)\u001b[0m\u001b[1;33m\u001b[0m\u001b[0m\n",
      "\u001b[1;31mTypeError\u001b[0m: No loop matching the specified signature and casting was found for ufunc svd_m_s"
     ]
    }
   ],
   "source": [
    "P1 = np.array([P1x,P1y,P1z]) \n",
    "P2 = np.array([P2x,P2y,P2z]) \n",
    "P3 = np.array([P3x,P3y,P3z]) \n",
    "P4 = np.array([P4x,P4y,P4z])\n",
    "\n",
    "sqare = np.array([[[0 ,0 ,0 ],\n",
    "                   [0 ,0 ,-1],\n",
    "                   [0 ,1 ,0 ]],\n",
    "                  [[0 ,0 ,1 ],\n",
    "                   [0 ,0 ,0 ],\n",
    "                   [-1,0 ,0 ]],\n",
    "                  [[0 ,-1,0 ],\n",
    "                   [1 ,0 ,0 ],\n",
    "                   [0 ,0 ,0 ]]])     \n",
    "\n",
    "k1_W = np.dot(sqare,P1)\n",
    "k2_W = np.dot(sqare,P2)\n",
    "k3_W = np.dot(sqare,P3)\n",
    "k4_W = np.dot(sqare,P4)\n",
    "k_W = np.concatenate((k1_W,k2_W,k3_W,k4_W),axis=1)\n",
    "##\n",
    "k_F = np.array([[1,0,0,1,0,0,1,0,0,1,0,0],\n",
    "                [0,1,0,0,1,0,0,1,0,0,1,0],\n",
    "                [0,0,1,0,0,1,0,0,1,0,0,1]])\n",
    "k = np.concatenate((k_F,k_W),axis=0)\n",
    "##\n",
    "K= np.matrix(k)"
   ]
  },
  {
   "cell_type": "code",
   "execution_count": 33,
   "metadata": {},
   "outputs": [],
   "source": [
    "def same(A, B):\n",
    "    m = len(A)\n",
    "    n = len(A[0])\n",
    "    A = A.tolist()\n",
    "    B = B.tolist()\n",
    "    for i in range(m):\n",
    "        for j in range(n):\n",
    "            if(abs(A[i][j]-B[i][j])>0.0001):\n",
    "                return False;\n",
    "    return True\n",
    "\n",
    "def run(A, B, D, b):\n",
    "    \"\"\"A为原矩阵，A=BD为其最大秩分解，Ax=b\"\"\"\n",
    "    A = np.mat(A)\n",
    "    B = np.mat(B)\n",
    "    D = np.mat(D)\n",
    "    b = np.mat(b).reshape(len(b), 1)\n",
    "    if(same(B*D, A)):\n",
    "        print(\"最大秩分解正确\")\n",
    "    else:\n",
    "        print(\"最大秩分解错误\")\n",
    "    Ap = D.T * np.linalg.inv(D*D.T) * np.linalg.inv(B.T*B) * B.T\n",
    "    print(\"M-P广义逆为:\\n\", Ap)\n",
    "    if(same(A*Ap*b, b)):\n",
    "        print(\"该方程相容\")\n",
    "        x = Ap*b\n",
    "        print(\"最小范数解为:\\n\", x)\n",
    "        E = np.eye(len(x))\n",
    "        print(\"通解为:\\n{}+{}U\".format(x, E-Ap*A))\n",
    "    else:\n",
    "        print(\"该方程不相容\")\n",
    "        x = Ap*b\n",
    "        print(\"最小二乘解为:\\n\", x)\n",
    "        E = np.eye(len(x))\n",
    "        print(\"最小二乘解通解为:\\n{}+{}U\".format(x, E-Ap*A))\n",
    "        print(\"最佳逼近解为:\\n\", x)\n"
   ]
  },
  {
   "cell_type": "code",
   "execution_count": 34,
   "metadata": {},
   "outputs": [],
   "source": [
    "\n",
    "def test1():\n",
    "    A = [[0, 1, -1],\n",
    "         [-1, 0, 1],\n",
    "         [1, -1, 0],\n",
    "         [0, 1, -1]]\n",
    "    B = [[0, 1], [-1, 0], [1, -1], [0, 1]]\n",
    "    D = [[1, 0, -1], [0, 1, -1]]\n",
    "    b = [1, -1, 0, 1]\n",
    "    run(A, B, D, b)\n",
    "\n",
    "def test2():\n",
    "    A = [[0, 0, 2], [1, 1, 0], [0, 0, 1], [1, 1, 1]]\n",
    "    B = [[0, 2], [1, 0], [0, 1], [1, 1]]\n",
    "    D = [[1, 1, 0], [0, 0, 1]]\n",
    "    b = [1, 1, 1, 1]\n",
    "    run(A, B, D, b)\n"
   ]
  },
  {
   "cell_type": "code",
   "execution_count": 35,
   "metadata": {},
   "outputs": [
    {
     "name": "stdout",
     "output_type": "stream",
     "text": [
      "最大秩分解正确\n",
      "M-P广义逆为:\n",
      " [[-1.85037171e-18 -3.33333333e-01  3.33333333e-01 -1.85037171e-18]\n",
      " [ 2.00000000e-01  6.66666667e-02 -2.66666667e-01  2.00000000e-01]\n",
      " [-2.00000000e-01  2.66666667e-01 -6.66666667e-02 -2.00000000e-01]]\n",
      "该方程相容\n",
      "最小范数解为:\n",
      " [[ 0.33333333]\n",
      " [ 0.33333333]\n",
      " [-0.66666667]]\n",
      "通解为:\n",
      "[[ 0.33333333]\n",
      " [ 0.33333333]\n",
      " [-0.66666667]]+[[0.33333333 0.33333333 0.33333333]\n",
      " [0.33333333 0.33333333 0.33333333]\n",
      " [0.33333333 0.33333333 0.33333333]]U\n",
      "最大秩分解正确\n",
      "M-P广义逆为:\n",
      " [[-0.09090909  0.27272727 -0.04545455  0.22727273]\n",
      " [-0.09090909  0.27272727 -0.04545455  0.22727273]\n",
      " [ 0.36363636 -0.09090909  0.18181818  0.09090909]]\n",
      "该方程不相容\n",
      "最小二乘解为:\n",
      " [[0.36363636]\n",
      " [0.36363636]\n",
      " [0.54545455]]\n",
      "最小二乘解通解为:\n",
      "[[0.36363636]\n",
      " [0.36363636]\n",
      " [0.54545455]]+[[ 5.00000000e-01 -5.00000000e-01  5.55111512e-17]\n",
      " [-5.00000000e-01  5.00000000e-01  5.55111512e-17]\n",
      " [ 0.00000000e+00  0.00000000e+00  0.00000000e+00]]U\n",
      "最佳逼近解为:\n",
      " [[0.36363636]\n",
      " [0.36363636]\n",
      " [0.54545455]]\n"
     ]
    }
   ],
   "source": [
    "test1()\n",
    "test2()"
   ]
  },
  {
   "cell_type": "code",
   "execution_count": null,
   "metadata": {},
   "outputs": [],
   "source": []
  }
 ],
 "metadata": {
  "kernelspec": {
   "display_name": "Python 3",
   "language": "python",
   "name": "python3"
  },
  "language_info": {
   "codemirror_mode": {
    "name": "ipython",
    "version": 3
   },
   "file_extension": ".py",
   "mimetype": "text/x-python",
   "name": "python",
   "nbconvert_exporter": "python",
   "pygments_lexer": "ipython3",
   "version": "3.6.5"
  }
 },
 "nbformat": 4,
 "nbformat_minor": 2
}

{
 "cells": [
  {
   "cell_type": "code",
   "execution_count": 1,
   "metadata": {},
   "outputs": [],
   "source": [
    "import numpy as np\n",
    "from sympy import * \n",
    "from sympy.abc import *\n",
    "import numpy as np\n",
    "import math"
   ]
  },
  {
   "cell_type": "code",
   "execution_count": 4,
   "metadata": {},
   "outputs": [],
   "source": [
    "\n",
    "d1_1  = symbols('d1_1')\n",
    "d1_2  = symbols('d1_2')\n",
    "d1_3  = symbols('d1_3')\n",
    "d1_4  = symbols('d1_4')\n",
    "d1_5  = symbols('d1_5')\n",
    "d1_6  = symbols('d1_6')\n",
    "\n",
    "d2_1  = symbols('d2_1')\n",
    "d2_2  = symbols('d2_2')\n",
    "d2_3  = symbols('d2_3')\n",
    "d2_4  = symbols('d2_4')\n",
    "d2_5  = symbols('d2_5')\n",
    "d2_6  = symbols('d2_6')\n",
    "\n",
    "d3_1  = symbols('d3_1')\n",
    "d3_2  = symbols('d3_2')\n",
    "d3_3  = symbols('d3_3')\n",
    "d3_4  = symbols('d3_4')\n",
    "d3_5  = symbols('d3_5')\n",
    "d3_6  = symbols('d3_6')\n",
    "\n",
    "d4_1  = symbols('d4_1')\n",
    "d4_2  = symbols('d4_2')\n",
    "d4_3  = symbols('d4_3')\n",
    "d4_4  = symbols('d4_4')\n",
    "d4_5  = symbols('d4_5')\n",
    "d4_6  = symbols('d4_6')\n",
    "\n",
    "d5_1  = symbols('d5_1')\n",
    "d5_2  = symbols('d5_2')\n",
    "d5_3  = symbols('d5_3')\n",
    "d5_4  = symbols('d5_4')\n",
    "d5_5  = symbols('d5_5')\n",
    "d5_6  = symbols('d5_6')\n",
    "\n",
    "d6_1  = symbols('d6_1')\n",
    "d6_2  = symbols('d6_2')\n",
    "d6_3  = symbols('d6_3')\n",
    "d6_4  = symbols('d6_4')\n",
    "d6_5  = symbols('d6_5')\n",
    "d6_6  = symbols('d6_6')\n",
    "\n",
    "D = [[d1_1,d1_2,d1_3,d1_4,d1_5,d1_6],\n",
    "     [d2_1,d2_2,d2_3,d2_4,d2_5,d2_6],\n",
    "     [d3_1,d3_2,d3_3,d3_4,d3_5,d3_6],\n",
    "     [d4_1,d4_2,d4_3,d4_4,d4_5,d4_6],\n",
    "     [d5_1,d5_2,d5_3,d5_4,d5_5,d5_6],\n",
    "     [d6_1,d6_2,d6_3,d6_4,d6_5,d6_6]]"
   ]
  },
  {
   "cell_type": "code",
   "execution_count": null,
   "metadata": {},
   "outputs": [],
   "source": [
    "def 6_6(D):\n",
    "\n",
    "    \n",
    "def 5_5(D):\n",
    "\n",
    "\n",
    "def 4_4(D):\n",
    "    \n",
    "    D[0][0]*3_3(D_1)+D[0][1]*3_3(D_2)+D[0][2]*3_3(D)+D[0][3]*3_3(D_3)\n",
    "\n",
    "def 3_3(D):\n",
    "    return D[0][0]*(D[1][1]*D[2][2]-D[2][1]*D[1][2]) - D[0][1]*(D[1][0]*D[2][2] - D[2][0]*D[1][2]) + D[0][2]*(D[1][0]*D[2][1] - D[2][0]*D[1][1])\n"
   ]
  },
  {
   "cell_type": "code",
   "execution_count": 10,
   "metadata": {},
   "outputs": [],
   "source": [
    "def fe1(a):\n",
    "    deter = a[0][0](a[1][1]*a[2][2]-a[2][1]*a[1][2]) - a[0][1](a[1][0]*a[2][2] - a[2][0]*a[1][2]) + a[0][2](a[1][0]*a[2][1] - a[2][0]*a[1][1])\n",
    "    print(deter)\n"
   ]
  },
  {
   "cell_type": "code",
   "execution_count": 3,
   "metadata": {},
   "outputs": [
    {
     "name": "stdout",
     "output_type": "stream",
     "text": [
      "a1(b2*c3 - b3*c2) - b1(a2*c3 - a3*c2) + c1(a2*b3 - a3*b2)\n"
     ]
    }
   ],
   "source": [
    "a1  = symbols('a1')\n",
    "a2  = symbols('a2')\n",
    "a3  = symbols('a3')\n",
    "\n",
    "b1  = symbols('b1')\n",
    "b2  = symbols('b2')\n",
    "b3  = symbols('b3')\n",
    "\n",
    "c1  = symbols('c1')\n",
    "c2  = symbols('c2')\n",
    "c3  = symbols('c3')\n",
    "\n",
    "a = [[a1,b1,c1],\n",
    "     [a2,b2,c2],\n",
    "     [a3,b3,c3]]\n",
    "det_3_3(a)\n"
   ]
  },
  {
   "cell_type": "code",
   "execution_count": 19,
   "metadata": {},
   "outputs": [
    {
     "name": "stdout",
     "output_type": "stream",
     "text": [
      "-65\n"
     ]
    },
    {
     "data": {
      "text/plain": [
       "-65.00000000000004"
      ]
     },
     "execution_count": 19,
     "metadata": {},
     "output_type": "execute_result"
    }
   ],
   "source": [
    "g = [[1,2,8],\n",
    "     [2,6,7],\n",
    "     [3,3,5]]\n",
    "f = g[0][0]*(g[1][1]*g[2][2]-g[2][1]*g[1][2]) - g[0][1]*(g[1][0]*g[2][2] - g[2][0]*g[1][2]) + g[0][2]*(g[1][0]*g[2][1] - g[2][0]*g[1][1])\n",
    "print(f)\n",
    "g = np.matrix([[1,2,8],\n",
    "              [2,6,7],\n",
    "              [3,3,5]])\n",
    "np.linalg.det(g)"
   ]
  },
  {
   "cell_type": "code",
   "execution_count": 29,
   "metadata": {},
   "outputs": [
    {
     "name": "stdout",
     "output_type": "stream",
     "text": [
      "-65.00000000000004\n",
      "-4.0\n",
      "30.000000000000014\n",
      "18.999999999999996\n",
      "-309.99999999999994\n"
     ]
    },
    {
     "data": {
      "text/plain": [
       "84.99999999999979"
      ]
     },
     "execution_count": 29,
     "metadata": {},
     "output_type": "execute_result"
    }
   ],
   "source": [
    "l = np.matrix([[1,2,8,1,2,8],\n",
    "               [2,6,7,1,6,8],\n",
    "               [3,3,5,1,2,7],\n",
    "               [1,2,8,2,3,9],\n",
    "               [2,1,7,1,2,8],\n",
    "               [3,3,5,3,1,8]])\n",
    "\n",
    "l_1 = np.matrix([[1,2,8],\n",
    "                [2,6,7],\n",
    "                [3,3,5]])\n",
    "print(np.linalg.det(l_1))\n",
    "\n",
    "l_2 = np.matrix([[1,2,8],\n",
    "                [1,6,8],\n",
    "                [1,2,7]])\n",
    "print(np.linalg.det(l_2))\n",
    "\n",
    "l_3 = np.matrix([[1,2,8],\n",
    "                [2,1,7],\n",
    "                [3,3,5]])\n",
    "print(np.linalg.det(l_3))\n",
    "\n",
    "l_4 = np.matrix([[2,3,9],\n",
    "                [1,2,8],\n",
    "                [3,1,8]])\n",
    "print(np.linalg.det(l_4))\n",
    "\n",
    "print(np.linalg.det(l_1)*np.linalg.det(l_2) - np.linalg.det(l_4)*np.linalg.det(l_3))\n",
    "np.linalg.det(l)"
   ]
  },
  {
   "cell_type": "code",
   "execution_count": 38,
   "metadata": {},
   "outputs": [
    {
     "name": "stdout",
     "output_type": "stream",
     "text": [
      "84.99999999999979\n"
     ]
    },
    {
     "data": {
      "text/plain": [
       "84.99999999999989"
      ]
     },
     "execution_count": 38,
     "metadata": {},
     "output_type": "execute_result"
    }
   ],
   "source": [
    "l = np.matrix([[1,2,8,1,2,8],\n",
    "               [2,6,7,1,6,8],\n",
    "               [3,3,5,1,2,7],\n",
    "               [1,2,8,2,3,9],\n",
    "               [2,1,7,1,2,8],\n",
    "               [3,3,5,3,1,8]])\n",
    "\n",
    "l_1 = [[6,7,1,6,8],\n",
    "       [3,5,1,2,7],\n",
    "       [2,8,2,3,9],\n",
    "       [1,7,1,2,8],\n",
    "       [3,5,3,1,8]]\n",
    "\n",
    "l_2= [[2,7,1,6,8],\n",
    "      [3,5,1,2,7],\n",
    "      [1,8,2,3,9],\n",
    "      [2,7,1,2,8],\n",
    "      [3,5,3,1,8]]\n",
    "\n",
    "l_3= [[2,6,1,6,8],\n",
    "      [3,3,1,2,7],\n",
    "      [1,2,2,3,9],\n",
    "      [2,1,1,2,8],\n",
    "      [3,3,3,1,8]]\n",
    "\n",
    "l_4= [[2,6,7,6,8],\n",
    "      [3,3,5,2,7],\n",
    "      [1,2,8,3,9],\n",
    "      [2,1,7,2,8],\n",
    "      [3,3,5,1,8]]\n",
    "\n",
    "l_5= [[2,6,7,1,8],\n",
    "      [3,3,5,1,7],\n",
    "      [1,2,8,2,9],\n",
    "      [2,1,7,1,8],\n",
    "      [3,3,5,3,8]]\n",
    "\n",
    "l_6= [[2,6,7,1,6],\n",
    "      [3,3,5,1,2],\n",
    "      [1,2,8,2,3],\n",
    "      [2,1,7,1,2],\n",
    "      [3,3,5,3,1]]\n",
    "\n",
    "print(np.linalg.det(l))\n",
    "np.linalg.det(l_1)*1 - 2* np.linalg.det(l_2) + 8*np.linalg.det(l_3) - 1*np.linalg.det(l_4) + 2*np.linalg.det(l_5) - 8*np.linalg.det(l_6)"
   ]
  },
  {
   "cell_type": "code",
   "execution_count": 5,
   "metadata": {},
   "outputs": [],
   "source": [
    "s = [[d1_1,d1_2,d1_3,d1_4,d1_5,d1_6],\n",
    "     [d2_1,d2_2,d2_3,d2_4,d2_5,d2_6],\n",
    "     [d3_1,d3_2,d3_3,d3_4,d3_5,d3_6],\n",
    "     [d4_1,d4_2,d4_3,d4_4,d4_5,d4_6],\n",
    "     [d5_1,d5_2,d5_3,d5_4,d5_5,d5_6],\n",
    "     [d6_1,d6_2,d6_3,d6_4,d6_5,d6_6]]\n",
    "\n",
    "s2 = [[d1_2,d1_3,d1_4,d1_5,d1_6],\n",
    "      [d3_2,d3_3,d3_4,d3_5,d3_6],\n",
    "      [d4_2,d4_3,d4_4,d4_5,d4_6],\n",
    "      [d5_2,d5_3,d5_4,d5_5,d5_6],\n",
    "      [d6_2,d6_3,d6_4,d6_5,d6_6]]\n",
    "\n",
    "def det5(s,x,y)\n",
    "    s2 \n",
    "def det6(s):\n",
    "    print(s)\n",
    "    det = s[0][0]*det5(s,0,0)+s[0][1]*det5(s,0,1)+s[0][2]*det5(s,0,2)+s[0][3]*det5(s,0,3)+s[0][4]*det5(s,0,4)+s[0][5]*det5(s,0,5)\n",
    "    "
   ]
  },
  {
   "cell_type": "code",
   "execution_count": null,
   "metadata": {},
   "outputs": [],
   "source": []
  }
 ],
 "metadata": {
  "kernelspec": {
   "display_name": "Python 3",
   "language": "python",
   "name": "python3"
  },
  "language_info": {
   "codemirror_mode": {
    "name": "ipython",
    "version": 3
   },
   "file_extension": ".py",
   "mimetype": "text/x-python",
   "name": "python",
   "nbconvert_exporter": "python",
   "pygments_lexer": "ipython3",
   "version": "3.6.5"
  }
 },
 "nbformat": 4,
 "nbformat_minor": 2
}

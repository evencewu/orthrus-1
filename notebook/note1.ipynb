{
 "cells": [
  {
   "cell_type": "code",
   "execution_count": 1,
   "metadata": {},
   "outputs": [],
   "source": [
    "import numpy as np"
   ]
  },
  {
   "cell_type": "code",
   "execution_count": 10,
   "metadata": {},
   "outputs": [],
   "source": [
    "sqare = np.array([[[0 ,0 ,0 ],\n",
    "                   [0 ,0 ,-1],\n",
    "                   [0 ,1 ,0 ]],\n",
    "                  [[0 ,0 ,1 ],\n",
    "                   [0 ,0 ,0 ],\n",
    "                   [-1,0 ,0 ]],\n",
    "                  [[0 ,-1,0 ],\n",
    "                   [1 ,0 ,0 ],\n",
    "                   [0 ,0 ,0 ]]])        "
   ]
  },
  {
   "cell_type": "code",
   "execution_count": 5,
   "metadata": {},
   "outputs": [],
   "source": [
    "#力向量\n",
    "F1 = np.array([1,2,3]) \n",
    "F2 = np.array([1,0,0]) \n",
    "F3 = np.array([1,0,0]) \n",
    "F4 = np.array([1,0,0]) "
   ]
  },
  {
   "cell_type": "code",
   "execution_count": 6,
   "metadata": {},
   "outputs": [],
   "source": [
    "#位置向量\n",
    "P1 = np.array([1,1,0]) \n",
    "P2 = np.array([1,-1,0]) \n",
    "P3 = np.array([-1,1,0]) \n",
    "P4 = np.array([-1,-1,0])"
   ]
  },
  {
   "cell_type": "markdown",
   "metadata": {},
   "source": [
    "### 从足端力到质点力的运算"
   ]
  },
  {
   "cell_type": "code",
   "execution_count": 7,
   "metadata": {},
   "outputs": [],
   "source": [
    "O1_W = np.cross(P1,F1)\n",
    "O2_W = np.cross(P2,F2)\n",
    "O3_W = np.cross(P3,F3)\n",
    "O4_W = np.cross(P4,F4)\n",
    "O_W = O1_W + O2_W + O3_W + O4_W"
   ]
  },
  {
   "cell_type": "code",
   "execution_count": 8,
   "metadata": {},
   "outputs": [],
   "source": [
    "iny = np.array([[1,0,0],[0,1,0],[0,0,1]])\n",
    "O1_F = np.dot(iny,F1)\n",
    "O2_F = np.dot(iny,F2)\n",
    "O3_F = np.dot(iny,F3)\n",
    "O4_F = np.dot(iny,F4)\n",
    "O_F = O1_F + O2_F + O3_F + O4_F"
   ]
  },
  {
   "cell_type": "code",
   "execution_count": 9,
   "metadata": {},
   "outputs": [
    {
     "name": "stdout",
     "output_type": "stream",
     "text": [
      "[ 3 -3  2] [4 2 3]\n"
     ]
    }
   ],
   "source": [
    "print(O_W,O_F)"
   ]
  },
  {
   "cell_type": "markdown",
   "metadata": {},
   "source": [
    "### 从质点力到足端力的解耦"
   ]
  },
  {
   "cell_type": "markdown",
   "metadata": {},
   "source": [
    "### 我是分割线-------------------------------------------------------------------------------------------------------------------------------------------------"
   ]
  },
  {
   "cell_type": "markdown",
   "metadata": {},
   "source": [
    "#### 计算广义逆矩阵（机体坐标系到各个足端）"
   ]
  },
  {
   "cell_type": "code",
   "execution_count": 11,
   "metadata": {},
   "outputs": [
    {
     "data": {
      "text/plain": [
       "array([[ 0,  0,  1,  0,  0, -1,  0,  0,  1,  0,  0, -1],\n",
       "       [ 0,  0, -1,  0,  0, -1,  0,  0,  1,  0,  0,  1],\n",
       "       [-1,  1,  0,  1,  1,  0, -1, -1,  0,  1, -1,  0]])"
      ]
     },
     "execution_count": 11,
     "metadata": {},
     "output_type": "execute_result"
    }
   ],
   "source": [
    "k1_W = np.dot(sqare,P1)\n",
    "k2_W = np.dot(sqare,P2)\n",
    "k3_W = np.dot(sqare,P3)\n",
    "k4_W = np.dot(sqare,P4)\n",
    "k_W = np.concatenate((k1_W,k2_W,k3_W,k4_W),axis=1)\n",
    "k_W"
   ]
  },
  {
   "cell_type": "code",
   "execution_count": 12,
   "metadata": {},
   "outputs": [
    {
     "data": {
      "text/plain": [
       "array([[ 1,  0,  0,  1,  0,  0,  1,  0,  0,  1,  0,  0],\n",
       "       [ 0,  1,  0,  0,  1,  0,  0,  1,  0,  0,  1,  0],\n",
       "       [ 0,  0,  1,  0,  0,  1,  0,  0,  1,  0,  0,  1],\n",
       "       [ 0,  0,  1,  0,  0, -1,  0,  0,  1,  0,  0, -1],\n",
       "       [ 0,  0, -1,  0,  0, -1,  0,  0,  1,  0,  0,  1],\n",
       "       [-1,  1,  0,  1,  1,  0, -1, -1,  0,  1, -1,  0]])"
      ]
     },
     "execution_count": 12,
     "metadata": {},
     "output_type": "execute_result"
    }
   ],
   "source": [
    "k_F = np.array([[1,0,0,1,0,0,1,0,0,1,0,0],\n",
    "                [0,1,0,0,1,0,0,1,0,0,1,0],\n",
    "                [0,0,1,0,0,1,0,0,1,0,0,1]])\n",
    "k = np.concatenate((k_F,k_W),axis=0)\n",
    "k"
   ]
  },
  {
   "cell_type": "code",
   "execution_count": 13,
   "metadata": {},
   "outputs": [
    {
     "data": {
      "text/plain": [
       "matrix([[ 2.50000000e-01,  0.00000000e+00,  0.00000000e+00,\n",
       "          3.85185989e-34,  6.93889390e-18, -1.25000000e-01],\n",
       "        [ 0.00000000e+00,  2.50000000e-01,  0.00000000e+00,\n",
       "         -3.85185989e-34, -6.93889390e-18,  1.25000000e-01],\n",
       "        [ 0.00000000e+00,  0.00000000e+00,  2.50000000e-01,\n",
       "          2.50000000e-01, -2.50000000e-01,  1.06549069e-17],\n",
       "        [ 2.50000000e-01,  0.00000000e+00,  0.00000000e+00,\n",
       "         -3.85185989e-34, -6.93889390e-18,  1.25000000e-01],\n",
       "        [ 0.00000000e+00,  2.50000000e-01,  0.00000000e+00,\n",
       "         -3.85185989e-34, -6.93889390e-18,  1.25000000e-01],\n",
       "        [ 0.00000000e+00,  0.00000000e+00,  2.50000000e-01,\n",
       "         -2.50000000e-01, -2.50000000e-01, -4.49525344e-17],\n",
       "        [ 2.50000000e-01,  0.00000000e+00,  0.00000000e+00,\n",
       "          3.85185989e-34,  6.93889390e-18, -1.25000000e-01],\n",
       "        [ 0.00000000e+00,  2.50000000e-01,  0.00000000e+00,\n",
       "          3.85185989e-34,  6.93889390e-18, -1.25000000e-01],\n",
       "        [ 0.00000000e+00,  0.00000000e+00,  2.50000000e-01,\n",
       "          2.50000000e-01,  2.50000000e-01,  1.22422748e-17],\n",
       "        [ 2.50000000e-01,  0.00000000e+00,  0.00000000e+00,\n",
       "         -3.85185989e-34, -6.93889390e-18,  1.25000000e-01],\n",
       "        [ 0.00000000e+00,  2.50000000e-01,  0.00000000e+00,\n",
       "          3.85185989e-34,  6.93889390e-18, -1.25000000e-01],\n",
       "        [ 0.00000000e+00,  0.00000000e+00,  2.50000000e-01,\n",
       "         -2.50000000e-01,  2.50000000e-01,  2.20553527e-17]])"
      ]
     },
     "execution_count": 13,
     "metadata": {},
     "output_type": "execute_result"
    }
   ],
   "source": [
    "K= np.matrix(k)\n",
    "K.I"
   ]
  },
  {
   "cell_type": "markdown",
   "metadata": {},
   "source": [
    "### 我是分割线-------------------------------------------------------------------------------------------------------------------------------------------------"
   ]
  },
  {
   "cell_type": "code",
   "execution_count": 16,
   "metadata": {},
   "outputs": [],
   "source": [
    "want = np.array([0,0,8,0,0,2])"
   ]
  },
  {
   "cell_type": "code",
   "execution_count": 17,
   "metadata": {},
   "outputs": [
    {
     "data": {
      "text/plain": [
       "matrix([[-0.25,  0.25,  2.  ,  0.25,  0.25,  2.  , -0.25, -0.25,  2.  ,\n",
       "          0.25, -0.25,  2.  ]])"
      ]
     },
     "execution_count": 17,
     "metadata": {},
     "output_type": "execute_result"
    }
   ],
   "source": [
    "np.dot(K.I,want)"
   ]
  },
  {
   "cell_type": "markdown",
   "metadata": {},
   "source": [
    "### 关节力矩向足端力矢量的运算"
   ]
  },
  {
   "cell_type": "code",
   "execution_count": null,
   "metadata": {},
   "outputs": [],
   "source": [
    "foot_want = np.array([0,0,8,0,0,2])"
   ]
  },
  {
   "cell_type": "markdown",
   "metadata": {},
   "source": [
    "### 足端力向关节力的解耦"
   ]
  },
  {
   "cell_type": "code",
   "execution_count": null,
   "metadata": {},
   "outputs": [],
   "source": []
  }
 ],
 "metadata": {
  "kernelspec": {
   "display_name": "Python 3",
   "language": "python",
   "name": "python3"
  },
  "language_info": {
   "codemirror_mode": {
    "name": "ipython",
    "version": 3
   },
   "file_extension": ".py",
   "mimetype": "text/x-python",
   "name": "python",
   "nbconvert_exporter": "python",
   "pygments_lexer": "ipython3",
   "version": "3.6.5"
  }
 },
 "nbformat": 4,
 "nbformat_minor": 2
}